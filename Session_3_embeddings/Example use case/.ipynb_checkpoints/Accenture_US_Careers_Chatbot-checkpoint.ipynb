{
 "cells": [
  {
   "cell_type": "markdown",
   "id": "4699dff4",
   "metadata": {},
   "source": [
    "# Accenture_US_Careers_Chatbot"
   ]
  },
  {
   "cell_type": "markdown",
   "id": "b4de7e29",
   "metadata": {},
   "source": [
    "First we will install the relevant packages"
   ]
  },
  {
   "cell_type": "code",
   "execution_count": 1,
   "id": "d2fdf87c",
   "metadata": {
    "scrolled": true
   },
   "outputs": [
    {
     "name": "stdout",
     "output_type": "stream",
     "text": [
      "/Users/eilidh.mcmenemie/Documents/HERA_training/Session_3_embeddings/Example use case\n"
     ]
    }
   ],
   "source": [
    "import os\n",
    "current_directory = os.getcwd()\n",
    "print(current_directory)\n",
    "import pandas as pd\n",
    "import numpy as np\n",
    "import openai\n",
    "from openai.embeddings_utils import distances_from_embeddings\n",
    "from openai.embeddings_utils import get_embedding"
   ]
  },
  {
   "cell_type": "code",
   "execution_count": 2,
   "id": "45d3ccfc",
   "metadata": {},
   "outputs": [],
   "source": [
    "openai.api_key = \"INSERT_API_KEY_HERE\""
   ]
  },
  {
   "cell_type": "markdown",
   "id": "bb1d1510",
   "metadata": {},
   "source": [
    "## Load the embeddings data"
   ]
  },
  {
   "cell_type": "markdown",
   "id": "fc461203",
   "metadata": {},
   "source": [
    "This is the embeddings csv you created when extracting the data"
   ]
  },
  {
   "cell_type": "code",
   "execution_count": 3,
   "id": "a266c57b",
   "metadata": {},
   "outputs": [],
   "source": [
    "df = pd.read_csv('./embeddings/acn_careers_embeddings.csv')\n",
    "df['embeddings'] = df['embeddings'].apply(eval).apply(np.array)"
   ]
  },
  {
   "cell_type": "markdown",
   "id": "90d579a4",
   "metadata": {},
   "source": [
    "## Define the Functions"
   ]
  },
  {
   "cell_type": "code",
   "execution_count": 4,
   "id": "502eb826",
   "metadata": {},
   "outputs": [],
   "source": [
    "\n",
    "def create_context(question, df):\n",
    "    \"\"\"\n",
    "    Create a context for a question by finding the most similar context from dataframe\n",
    "    \"\"\"\n",
    "    q_embeddings = get_embedding(question, engine=f'text-embedding-ada-002')\n",
    "    df['distances'] = distances_from_embeddings(q_embeddings, df['embeddings'].values, distance_metric='cosine')\n",
    "\n",
    "    returns = []\n",
    "    cur_len = 0\n",
    "    for i, row in df.sort_values('distances', ascending=True).iterrows():\n",
    "        returns.append('Source ID: ' + row[\"Source ID\"] + ' - ' + row[\"text\"])\n",
    "    return returns, df.sort_values('distances', ascending=True)\n",
    "\n",
    "\n",
    "\n",
    "\n",
    "def answer_question(df,initial_prompt, question, context_length = 5):\n",
    "    \"\"\"\n",
    "    Answer a question based on the most similar context from the dataframe texts\n",
    "    \"\"\"\n",
    "    contexts,contexts_df = create_context(question, df)\n",
    "    contexts = '\\n\\n###\\n\\n'.join(contexts[0:context_length])\n",
    "    \n",
    "    prompt = '\\n\\nContext: ' + contexts +  ' \\n\\n---\\n\\nQuestion:' + question  + '\\n\\nAnswer:'\n",
    "    \n",
    "    response = openai.ChatCompletion.create(\n",
    "        messages=[\n",
    "            {'role': 'system', 'content': initial_prompt},\n",
    "            {'role': 'user', 'content': prompt},\n",
    "        ],\n",
    "        model=\"gpt-3.5-turbo\",\n",
    "    )\n",
    "\n",
    "\n",
    "    return response['choices'][0]['message']['content'].strip(), contexts_df"
   ]
  },
  {
   "cell_type": "markdown",
   "id": "503532f3",
   "metadata": {},
   "source": [
    "## Define the prompt"
   ]
  },
  {
   "cell_type": "code",
   "execution_count": 5,
   "id": "4ea981c6",
   "metadata": {},
   "outputs": [],
   "source": [
    "prompt_data = \"\"\" You are HERA, a super-intelligent bot, built to answer questions on Accenture Careers. \n",
    "            You are highly effective at retrieving Careers information and related questions.\n",
    "            Answer  the question or respond to  the user  based on the context below and \n",
    "            if you are uncertain about the answer based on the context give your best guess, \n",
    "            \n",
    "            Let's think step by step.\n",
    "            Also return the Source ID passed in the context from which the answer was generated which can be multiple source ID.\n",
    "            Always update source ID after the response. If the question is greeting do not return source\n",
    "\"\"\""
   ]
  },
  {
   "cell_type": "markdown",
   "id": "67221d15",
   "metadata": {},
   "source": [
    "## Ask a question"
   ]
  },
  {
   "cell_type": "code",
   "execution_count": 6,
   "id": "48a0d5e8",
   "metadata": {},
   "outputs": [],
   "source": [
    "text = 'Where can I find the job advertisements?'"
   ]
  },
  {
   "cell_type": "markdown",
   "id": "81b40a30",
   "metadata": {},
   "source": [
    "## Parameters\n",
    "\n",
    "`context_length` is the maximum number of context to pass to the prompt for the GPT-3 model to answer"
   ]
  },
  {
   "cell_type": "code",
   "execution_count": 7,
   "id": "795180a3",
   "metadata": {},
   "outputs": [],
   "source": [
    "response ,context_df = answer_question(df, prompt_data, text ,context_length = 3) \n"
   ]
  },
  {
   "cell_type": "markdown",
   "id": "873509df",
   "metadata": {},
   "source": [
    "## Response"
   ]
  },
  {
   "cell_type": "code",
   "execution_count": 8,
   "id": "5b8a729b",
   "metadata": {},
   "outputs": [
    {
     "data": {
      "text/plain": [
       "'You can find latest job advertisements on the Accenture Careers page. However, based on the provided context, there are currently no jobs available in the USA. You can sign up for job alerts to receive notifications when there are matching job openings. \\n\\nSource ID: us en careers jobsearch_52, us en careers jobsearch_53'"
      ]
     },
     "execution_count": 8,
     "metadata": {},
     "output_type": "execute_result"
    }
   ],
   "source": [
    "response"
   ]
  },
  {
   "cell_type": "code",
   "execution_count": 11,
   "id": "73c7f81f",
   "metadata": {},
   "outputs": [
    {
     "data": {
      "text/html": [
       "<div>\n",
       "<style scoped>\n",
       "    .dataframe tbody tr th:only-of-type {\n",
       "        vertical-align: middle;\n",
       "    }\n",
       "\n",
       "    .dataframe tbody tr th {\n",
       "        vertical-align: top;\n",
       "    }\n",
       "\n",
       "    .dataframe thead th {\n",
       "        text-align: right;\n",
       "    }\n",
       "</style>\n",
       "<table border=\"1\" class=\"dataframe\">\n",
       "  <thead>\n",
       "    <tr style=\"text-align: right;\">\n",
       "      <th></th>\n",
       "      <th>Unnamed: 0</th>\n",
       "      <th>fname</th>\n",
       "      <th>text</th>\n",
       "      <th>n_tokens</th>\n",
       "      <th>ID</th>\n",
       "      <th>Source ID</th>\n",
       "      <th>embeddings</th>\n",
       "      <th>distances</th>\n",
       "    </tr>\n",
       "  </thead>\n",
       "  <tbody>\n",
       "    <tr>\n",
       "      <th>51</th>\n",
       "      <td>51</td>\n",
       "      <td>us en careers jobsearch</td>\n",
       "      <td>Latest Jobs  Recommended jobs   Sort By: Mo...</td>\n",
       "      <td>449</td>\n",
       "      <td>52</td>\n",
       "      <td>us en careers jobsearch_52</td>\n",
       "      <td>[-0.018950611352920532, -0.024457165971398354,...</td>\n",
       "      <td>0.201556</td>\n",
       "    </tr>\n",
       "    <tr>\n",
       "      <th>52</th>\n",
       "      <td>52</td>\n",
       "      <td>us en careers jobsearch</td>\n",
       "      <td>If you would like to be considered for emplo...</td>\n",
       "      <td>477</td>\n",
       "      <td>53</td>\n",
       "      <td>us en careers jobsearch_53</td>\n",
       "      <td>[-0.009018356911838055, -0.02151143178343773, ...</td>\n",
       "      <td>0.201898</td>\n",
       "    </tr>\n",
       "    <tr>\n",
       "      <th>92</th>\n",
       "      <td>92</td>\n",
       "      <td>us en careers life at accenture people profil...</td>\n",
       "      <td>Sifre Talent Architecture Senior Manager Meet ...</td>\n",
       "      <td>437</td>\n",
       "      <td>93</td>\n",
       "      <td>us en careers life at accenture people profil...</td>\n",
       "      <td>[-0.01347218919545412, -0.02755706012248993, 0...</td>\n",
       "      <td>0.203045</td>\n",
       "    </tr>\n",
       "    <tr>\n",
       "      <th>299</th>\n",
       "      <td>299</td>\n",
       "      <td>us en careers life at accenture people profil...</td>\n",
       "      <td>Sifre Talent Architecture Senior Manager Meet ...</td>\n",
       "      <td>437</td>\n",
       "      <td>300</td>\n",
       "      <td>us en careers life at accenture people profil...</td>\n",
       "      <td>[-0.01347218919545412, -0.02755706012248993, 0...</td>\n",
       "      <td>0.203045</td>\n",
       "    </tr>\n",
       "    <tr>\n",
       "      <th>42</th>\n",
       "      <td>42</td>\n",
       "      <td>us en careers life at accenture people profil...</td>\n",
       "      <td>Sifre Talent Architecture Senior Manager Meet ...</td>\n",
       "      <td>437</td>\n",
       "      <td>43</td>\n",
       "      <td>us en careers life at accenture people profil...</td>\n",
       "      <td>[-0.013544969260692596, -0.027566393837332726,...</td>\n",
       "      <td>0.203062</td>\n",
       "    </tr>\n",
       "    <tr>\n",
       "      <th>...</th>\n",
       "      <td>...</td>\n",
       "      <td>...</td>\n",
       "      <td>...</td>\n",
       "      <td>...</td>\n",
       "      <td>...</td>\n",
       "      <td>...</td>\n",
       "      <td>...</td>\n",
       "      <td>...</td>\n",
       "    </tr>\n",
       "    <tr>\n",
       "      <th>127</th>\n",
       "      <td>127</td>\n",
       "      <td>us en careers your future rewards benefits</td>\n",
       "      <td>\\t\\t   Fertility management, adoptio...</td>\n",
       "      <td>490</td>\n",
       "      <td>128</td>\n",
       "      <td>us en careers your future rewards benefits_128</td>\n",
       "      <td>[0.03082151710987091, -0.014537937007844448, -...</td>\n",
       "      <td>0.277355</td>\n",
       "    </tr>\n",
       "    <tr>\n",
       "      <th>277</th>\n",
       "      <td>277</td>\n",
       "      <td>us en careers local total rewards</td>\n",
       "      <td>\\t\\t   Fertility management, adoptio...</td>\n",
       "      <td>490</td>\n",
       "      <td>278</td>\n",
       "      <td>us en careers local total rewards_278</td>\n",
       "      <td>[0.03082151710987091, -0.014537937007844448, -...</td>\n",
       "      <td>0.277355</td>\n",
       "    </tr>\n",
       "    <tr>\n",
       "      <th>157</th>\n",
       "      <td>157</td>\n",
       "      <td>us en careers explore careers area of interes...</td>\n",
       "      <td>Unleash your creativity in the Metaverse Con...</td>\n",
       "      <td>449</td>\n",
       "      <td>158</td>\n",
       "      <td>us en careers explore careers area of interes...</td>\n",
       "      <td>[-0.00391213595867157, -0.017266899347305298, ...</td>\n",
       "      <td>0.283747</td>\n",
       "    </tr>\n",
       "    <tr>\n",
       "      <th>284</th>\n",
       "      <td>284</td>\n",
       "      <td>us en careers life at accenture people profil...</td>\n",
       "      <td>Digital identity innovation in the metaverse w...</td>\n",
       "      <td>456</td>\n",
       "      <td>285</td>\n",
       "      <td>us en careers life at accenture people profil...</td>\n",
       "      <td>[-0.026941364631056786, -0.00800305139273405, ...</td>\n",
       "      <td>0.284725</td>\n",
       "    </tr>\n",
       "    <tr>\n",
       "      <th>304</th>\n",
       "      <td>304</td>\n",
       "      <td>us en careers explore careers area of interes...</td>\n",
       "      <td>Our Technology Vision 2023 report reveals: We’...</td>\n",
       "      <td>489</td>\n",
       "      <td>305</td>\n",
       "      <td>us en careers explore careers area of interes...</td>\n",
       "      <td>[-0.005864057689905167, 0.0012237124610692263,...</td>\n",
       "      <td>0.289291</td>\n",
       "    </tr>\n",
       "  </tbody>\n",
       "</table>\n",
       "<p>337 rows × 8 columns</p>\n",
       "</div>"
      ],
      "text/plain": [
       "     Unnamed: 0                                              fname  \\\n",
       "51           51                            us en careers jobsearch   \n",
       "52           52                            us en careers jobsearch   \n",
       "92           92   us en careers life at accenture people profil...   \n",
       "299         299   us en careers life at accenture people profil...   \n",
       "42           42   us en careers life at accenture people profil...   \n",
       "..          ...                                                ...   \n",
       "127         127         us en careers your future rewards benefits   \n",
       "277         277                  us en careers local total rewards   \n",
       "157         157   us en careers explore careers area of interes...   \n",
       "284         284   us en careers life at accenture people profil...   \n",
       "304         304   us en careers explore careers area of interes...   \n",
       "\n",
       "                                                  text  n_tokens   ID  \\\n",
       "51      Latest Jobs  Recommended jobs   Sort By: Mo...       449   52   \n",
       "52     If you would like to be considered for emplo...       477   53   \n",
       "92   Sifre Talent Architecture Senior Manager Meet ...       437   93   \n",
       "299  Sifre Talent Architecture Senior Manager Meet ...       437  300   \n",
       "42   Sifre Talent Architecture Senior Manager Meet ...       437   43   \n",
       "..                                                 ...       ...  ...   \n",
       "127            \\t\\t   Fertility management, adoptio...       490  128   \n",
       "277            \\t\\t   Fertility management, adoptio...       490  278   \n",
       "157    Unleash your creativity in the Metaverse Con...       449  158   \n",
       "284  Digital identity innovation in the metaverse w...       456  285   \n",
       "304  Our Technology Vision 2023 report reveals: We’...       489  305   \n",
       "\n",
       "                                             Source ID  \\\n",
       "51                          us en careers jobsearch_52   \n",
       "52                          us en careers jobsearch_53   \n",
       "92    us en careers life at accenture people profil...   \n",
       "299   us en careers life at accenture people profil...   \n",
       "42    us en careers life at accenture people profil...   \n",
       "..                                                 ...   \n",
       "127     us en careers your future rewards benefits_128   \n",
       "277              us en careers local total rewards_278   \n",
       "157   us en careers explore careers area of interes...   \n",
       "284   us en careers life at accenture people profil...   \n",
       "304   us en careers explore careers area of interes...   \n",
       "\n",
       "                                            embeddings  distances  \n",
       "51   [-0.018950611352920532, -0.024457165971398354,...   0.201556  \n",
       "52   [-0.009018356911838055, -0.02151143178343773, ...   0.201898  \n",
       "92   [-0.01347218919545412, -0.02755706012248993, 0...   0.203045  \n",
       "299  [-0.01347218919545412, -0.02755706012248993, 0...   0.203045  \n",
       "42   [-0.013544969260692596, -0.027566393837332726,...   0.203062  \n",
       "..                                                 ...        ...  \n",
       "127  [0.03082151710987091, -0.014537937007844448, -...   0.277355  \n",
       "277  [0.03082151710987091, -0.014537937007844448, -...   0.277355  \n",
       "157  [-0.00391213595867157, -0.017266899347305298, ...   0.283747  \n",
       "284  [-0.026941364631056786, -0.00800305139273405, ...   0.284725  \n",
       "304  [-0.005864057689905167, 0.0012237124610692263,...   0.289291  \n",
       "\n",
       "[337 rows x 8 columns]"
      ]
     },
     "execution_count": 11,
     "metadata": {},
     "output_type": "execute_result"
    }
   ],
   "source": [
    "context_df"
   ]
  },
  {
   "cell_type": "code",
   "execution_count": null,
   "id": "f8417e0b",
   "metadata": {},
   "outputs": [],
   "source": []
  }
 ],
 "metadata": {
  "kernelspec": {
   "display_name": "Python 3 (ipykernel)",
   "language": "python",
   "name": "python3"
  },
  "language_info": {
   "codemirror_mode": {
    "name": "ipython",
    "version": 3
   },
   "file_extension": ".py",
   "mimetype": "text/x-python",
   "name": "python",
   "nbconvert_exporter": "python",
   "pygments_lexer": "ipython3",
   "version": "3.9.13"
  }
 },
 "nbformat": 4,
 "nbformat_minor": 5
}
